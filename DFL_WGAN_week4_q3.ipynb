{
  "nbformat": 4,
  "nbformat_minor": 0,
  "metadata": {
    "colab": {
      "name": "DFL:WGAN-week4-q3.ipynb",
      "version": "0.3.2",
      "provenance": [],
      "private_outputs": true,
      "include_colab_link": true
    },
    "kernelspec": {
      "name": "python3",
      "display_name": "Python 3"
    }
  },
  "cells": [
    {
      "cell_type": "markdown",
      "metadata": {
        "id": "view-in-github",
        "colab_type": "text"
      },
      "source": [
        "<a href=\"https://colab.research.google.com/github/JamesAllingham/DFL-WGAN/blob/master/DFL_WGAN_week4_q3.ipynb\" target=\"_parent\"><img src=\"https://colab.research.google.com/assets/colab-badge.svg\" alt=\"Open In Colab\"/></a>"
      ]
    },
    {
      "metadata": {
        "id": "Ai2VUqB--ImV",
        "colab_type": "code",
        "colab": {}
      },
      "cell_type": "code",
      "source": [
        "import numpy as np\n",
        "from scipy.stats import wasserstein_distance\n",
        "from scipy.special import kl_div"
      ],
      "execution_count": 0,
      "outputs": []
    },
    {
      "metadata": {
        "id": "-YaJX6U5GZB7",
        "colab_type": "text"
      },
      "cell_type": "markdown",
      "source": [
        "Distros with same support:"
      ]
    },
    {
      "metadata": {
        "id": "BME8vu7y-ebH",
        "colab_type": "code",
        "colab": {}
      },
      "cell_type": "code",
      "source": [
        "p = [[0, 1], [0.5, 0.5]]\n",
        "q = [[0, 1], [0.75, 0.25]]\n",
        "r = [[0, 1], [0.25, 0.75]]"
      ],
      "execution_count": 0,
      "outputs": []
    },
    {
      "metadata": {
        "id": "CKjFXVrnE5K9",
        "colab_type": "code",
        "colab": {}
      },
      "cell_type": "code",
      "source": [
        "print(np.sum(kl_div(p[1], q[1])))\n",
        "print(wasserstein_distance(p[0], q[0], p[1], q[1]))"
      ],
      "execution_count": 0,
      "outputs": []
    },
    {
      "metadata": {
        "id": "yv9u--EjGRSj",
        "colab_type": "code",
        "colab": {}
      },
      "cell_type": "code",
      "source": [
        "print(np.sum(kl_div(q[1], p[1])))\n",
        "print(wasserstein_distance(q[0], p[0], q[1], p[1]))"
      ],
      "execution_count": 0,
      "outputs": []
    },
    {
      "metadata": {
        "id": "6ZVR9C8GFM-z",
        "colab_type": "code",
        "colab": {}
      },
      "cell_type": "code",
      "source": [
        "print(np.sum(kl_div(p[1], p[1])))\n",
        "print(wasserstein_distance(p[0], p[0], p[1], p[1]))"
      ],
      "execution_count": 0,
      "outputs": []
    },
    {
      "metadata": {
        "id": "xK2AxpnhFQ7-",
        "colab_type": "code",
        "colab": {}
      },
      "cell_type": "code",
      "source": [
        "print(np.sum(kl_div(p[1], r[1])))\n",
        "print(wasserstein_distance(p[0], r[0], p[1], r[1]))"
      ],
      "execution_count": 0,
      "outputs": []
    },
    {
      "metadata": {
        "id": "suAQOmspFa0Z",
        "colab_type": "code",
        "colab": {}
      },
      "cell_type": "code",
      "source": [
        "print(np.sum(kl_div(q[1], r[1])))\n",
        "print(wasserstein_distance(q[0], r[0], q[1], r[1]))"
      ],
      "execution_count": 0,
      "outputs": []
    },
    {
      "metadata": {
        "id": "wkoXX37-GcRr",
        "colab_type": "text"
      },
      "cell_type": "markdown",
      "source": [
        "Distros with disjoint support:"
      ]
    },
    {
      "metadata": {
        "id": "OvKSD1wfGLnn",
        "colab_type": "code",
        "colab": {}
      },
      "cell_type": "code",
      "source": [
        "p = [[0, 1, 2], [0.5, 0.5, 0]]\n",
        "q = [[0, 1, 2], [.33, 0.33, 0.33]]"
      ],
      "execution_count": 0,
      "outputs": []
    },
    {
      "metadata": {
        "id": "wUgcepJ2Goyu",
        "colab_type": "code",
        "colab": {}
      },
      "cell_type": "code",
      "source": [
        "print(np.sum(kl_div(p[1], q[1])))\n",
        "print(wasserstein_distance(p[0], q[0], p[1], q[1]))"
      ],
      "execution_count": 0,
      "outputs": []
    },
    {
      "metadata": {
        "id": "BV9YT1yrGpOq",
        "colab_type": "code",
        "colab": {}
      },
      "cell_type": "code",
      "source": [
        "print(np.sum(kl_div(q[1], p[1])))\n",
        "print(wasserstein_distance(q[0], p[0], q[1], p[1]))"
      ],
      "execution_count": 0,
      "outputs": []
    },
    {
      "metadata": {
        "id": "NZVF0E5nHRLm",
        "colab_type": "text"
      },
      "cell_type": "markdown",
      "source": [
        "Very disjoint:"
      ]
    },
    {
      "metadata": {
        "id": "vtpEF-AoHHy3",
        "colab_type": "code",
        "colab": {}
      },
      "cell_type": "code",
      "source": [
        "r = [[0, 1, 2, 3], [0.5, 0.5, 0, 0]]\n",
        "s = [[0, 1, 2, 3], [0, 0, 0.5, 0.5]]"
      ],
      "execution_count": 0,
      "outputs": []
    },
    {
      "metadata": {
        "id": "71j0xTXdHW69",
        "colab_type": "code",
        "colab": {}
      },
      "cell_type": "code",
      "source": [
        "print(np.sum(kl_div(r[1], s[1])))\n",
        "print(wasserstein_distance(r[0], s[0], r[1], s[1]))"
      ],
      "execution_count": 0,
      "outputs": []
    },
    {
      "metadata": {
        "id": "Sm0GUIgKAqTG",
        "colab_type": "text"
      },
      "cell_type": "markdown",
      "source": [
        "More EMD cases:"
      ]
    },
    {
      "metadata": {
        "id": "XYR1OEEXHYHa",
        "colab_type": "code",
        "colab": {}
      },
      "cell_type": "code",
      "source": [
        "p = [[0, 1, 2], [0.25, 0.75, 0]]\n",
        "q = [[0, 1, 2], [0, 0.75, 0.25]]\n",
        "r = [[0, 1, 2], [0, 0.25, 0.75]]\n",
        "s = [[0, 1, 2, 3], [0, 0, 0.25, 0.75]]"
      ],
      "execution_count": 0,
      "outputs": []
    },
    {
      "metadata": {
        "id": "jYF1boc-HdzN",
        "colab_type": "code",
        "colab": {}
      },
      "cell_type": "code",
      "source": [
        "print(wasserstein_distance(p[0], q[0], p[1], q[1]))"
      ],
      "execution_count": 0,
      "outputs": []
    },
    {
      "metadata": {
        "id": "N3qw8uWnHjz1",
        "colab_type": "code",
        "colab": {}
      },
      "cell_type": "code",
      "source": [
        "print(wasserstein_distance(p[0], r[0], p[1], r[1]))"
      ],
      "execution_count": 0,
      "outputs": []
    },
    {
      "metadata": {
        "id": "U4McZj5sT-5l",
        "colab_type": "code",
        "colab": {}
      },
      "cell_type": "code",
      "source": [
        "print(wasserstein_distance(q[0], r[0], q[1], r[1]))"
      ],
      "execution_count": 0,
      "outputs": []
    },
    {
      "metadata": {
        "id": "AdixQX0cZoxl",
        "colab_type": "code",
        "colab": {}
      },
      "cell_type": "code",
      "source": [
        "print(wasserstein_distance(p[0], s[0], p[1], s[1]))"
      ],
      "execution_count": 0,
      "outputs": []
    },
    {
      "metadata": {
        "id": "mX5ZLFPUZu4_",
        "colab_type": "code",
        "colab": {}
      },
      "cell_type": "code",
      "source": [
        "print(wasserstein_distance(r[0], s[0], r[1], s[1]))"
      ],
      "execution_count": 0,
      "outputs": []
    },
    {
      "metadata": {
        "id": "K-NmfRg_Z1OW",
        "colab_type": "code",
        "colab": {}
      },
      "cell_type": "code",
      "source": [
        ""
      ],
      "execution_count": 0,
      "outputs": []
    }
  ]
}