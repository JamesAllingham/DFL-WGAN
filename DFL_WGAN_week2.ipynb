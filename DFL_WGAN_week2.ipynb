{
  "nbformat": 4,
  "nbformat_minor": 0,
  "metadata": {
    "colab": {
      "name": "DFL:WGAN-week2",
      "version": "0.3.2",
      "provenance": [],
      "collapsed_sections": [],
      "include_colab_link": true
    },
    "kernelspec": {
      "name": "python3",
      "display_name": "Python 3"
    }
  },
  "cells": [
    {
      "cell_type": "markdown",
      "metadata": {
        "id": "view-in-github",
        "colab_type": "text"
      },
      "source": [
        "<a href=\"https://colab.research.google.com/github/JamesAllingham/DFL-WGAN/blob/master/DFL_WGAN_week2.ipynb\" target=\"_parent\"><img src=\"https://colab.research.google.com/assets/colab-badge.svg\" alt=\"Open In Colab\"/></a>"
      ]
    },
    {
      "metadata": {
        "id": "wWZZgr5CrNvk",
        "colab_type": "text"
      },
      "cell_type": "markdown",
      "source": [
        "Lets load the data and have a look:"
      ]
    },
    {
      "metadata": {
        "id": "8Np2vHDjoBDI",
        "colab_type": "code",
        "colab": {}
      },
      "cell_type": "code",
      "source": [
        "import numpy as np\n",
        "import pandas as pd\n",
        "from sklearn.datasets import load_iris\n",
        "import matplotlib.pyplot as plt"
      ],
      "execution_count": 0,
      "outputs": []
    },
    {
      "metadata": {
        "id": "G-kbqckkqt0O",
        "colab_type": "code",
        "outputId": "eb651e0f-0bf9-4981-fe21-78823407bfdb",
        "colab": {
          "base_uri": "https://localhost:8080/",
          "height": 686
        }
      },
      "cell_type": "code",
      "source": [
        "iris, _ = load_iris(return_X_y=True)\n",
        "print(iris.shape)\n",
        "df = pd.DataFrame(iris)\n",
        "df.columns = ['Sepal Length', 'Sepal Width', 'Petal Length', 'Petal Width']\n",
        "df[0:20]"
      ],
      "execution_count": 2,
      "outputs": [
        {
          "output_type": "stream",
          "text": [
            "(150, 4)\n"
          ],
          "name": "stdout"
        },
        {
          "output_type": "execute_result",
          "data": {
            "text/html": [
              "<div>\n",
              "<style scoped>\n",
              "    .dataframe tbody tr th:only-of-type {\n",
              "        vertical-align: middle;\n",
              "    }\n",
              "\n",
              "    .dataframe tbody tr th {\n",
              "        vertical-align: top;\n",
              "    }\n",
              "\n",
              "    .dataframe thead th {\n",
              "        text-align: right;\n",
              "    }\n",
              "</style>\n",
              "<table border=\"1\" class=\"dataframe\">\n",
              "  <thead>\n",
              "    <tr style=\"text-align: right;\">\n",
              "      <th></th>\n",
              "      <th>Sepal Length</th>\n",
              "      <th>Sepal Width</th>\n",
              "      <th>Petal Length</th>\n",
              "      <th>Petal Width</th>\n",
              "    </tr>\n",
              "  </thead>\n",
              "  <tbody>\n",
              "    <tr>\n",
              "      <th>0</th>\n",
              "      <td>5.1</td>\n",
              "      <td>3.5</td>\n",
              "      <td>1.4</td>\n",
              "      <td>0.2</td>\n",
              "    </tr>\n",
              "    <tr>\n",
              "      <th>1</th>\n",
              "      <td>4.9</td>\n",
              "      <td>3.0</td>\n",
              "      <td>1.4</td>\n",
              "      <td>0.2</td>\n",
              "    </tr>\n",
              "    <tr>\n",
              "      <th>2</th>\n",
              "      <td>4.7</td>\n",
              "      <td>3.2</td>\n",
              "      <td>1.3</td>\n",
              "      <td>0.2</td>\n",
              "    </tr>\n",
              "    <tr>\n",
              "      <th>3</th>\n",
              "      <td>4.6</td>\n",
              "      <td>3.1</td>\n",
              "      <td>1.5</td>\n",
              "      <td>0.2</td>\n",
              "    </tr>\n",
              "    <tr>\n",
              "      <th>4</th>\n",
              "      <td>5.0</td>\n",
              "      <td>3.6</td>\n",
              "      <td>1.4</td>\n",
              "      <td>0.2</td>\n",
              "    </tr>\n",
              "    <tr>\n",
              "      <th>5</th>\n",
              "      <td>5.4</td>\n",
              "      <td>3.9</td>\n",
              "      <td>1.7</td>\n",
              "      <td>0.4</td>\n",
              "    </tr>\n",
              "    <tr>\n",
              "      <th>6</th>\n",
              "      <td>4.6</td>\n",
              "      <td>3.4</td>\n",
              "      <td>1.4</td>\n",
              "      <td>0.3</td>\n",
              "    </tr>\n",
              "    <tr>\n",
              "      <th>7</th>\n",
              "      <td>5.0</td>\n",
              "      <td>3.4</td>\n",
              "      <td>1.5</td>\n",
              "      <td>0.2</td>\n",
              "    </tr>\n",
              "    <tr>\n",
              "      <th>8</th>\n",
              "      <td>4.4</td>\n",
              "      <td>2.9</td>\n",
              "      <td>1.4</td>\n",
              "      <td>0.2</td>\n",
              "    </tr>\n",
              "    <tr>\n",
              "      <th>9</th>\n",
              "      <td>4.9</td>\n",
              "      <td>3.1</td>\n",
              "      <td>1.5</td>\n",
              "      <td>0.1</td>\n",
              "    </tr>\n",
              "    <tr>\n",
              "      <th>10</th>\n",
              "      <td>5.4</td>\n",
              "      <td>3.7</td>\n",
              "      <td>1.5</td>\n",
              "      <td>0.2</td>\n",
              "    </tr>\n",
              "    <tr>\n",
              "      <th>11</th>\n",
              "      <td>4.8</td>\n",
              "      <td>3.4</td>\n",
              "      <td>1.6</td>\n",
              "      <td>0.2</td>\n",
              "    </tr>\n",
              "    <tr>\n",
              "      <th>12</th>\n",
              "      <td>4.8</td>\n",
              "      <td>3.0</td>\n",
              "      <td>1.4</td>\n",
              "      <td>0.1</td>\n",
              "    </tr>\n",
              "    <tr>\n",
              "      <th>13</th>\n",
              "      <td>4.3</td>\n",
              "      <td>3.0</td>\n",
              "      <td>1.1</td>\n",
              "      <td>0.1</td>\n",
              "    </tr>\n",
              "    <tr>\n",
              "      <th>14</th>\n",
              "      <td>5.8</td>\n",
              "      <td>4.0</td>\n",
              "      <td>1.2</td>\n",
              "      <td>0.2</td>\n",
              "    </tr>\n",
              "    <tr>\n",
              "      <th>15</th>\n",
              "      <td>5.7</td>\n",
              "      <td>4.4</td>\n",
              "      <td>1.5</td>\n",
              "      <td>0.4</td>\n",
              "    </tr>\n",
              "    <tr>\n",
              "      <th>16</th>\n",
              "      <td>5.4</td>\n",
              "      <td>3.9</td>\n",
              "      <td>1.3</td>\n",
              "      <td>0.4</td>\n",
              "    </tr>\n",
              "    <tr>\n",
              "      <th>17</th>\n",
              "      <td>5.1</td>\n",
              "      <td>3.5</td>\n",
              "      <td>1.4</td>\n",
              "      <td>0.3</td>\n",
              "    </tr>\n",
              "    <tr>\n",
              "      <th>18</th>\n",
              "      <td>5.7</td>\n",
              "      <td>3.8</td>\n",
              "      <td>1.7</td>\n",
              "      <td>0.3</td>\n",
              "    </tr>\n",
              "    <tr>\n",
              "      <th>19</th>\n",
              "      <td>5.1</td>\n",
              "      <td>3.8</td>\n",
              "      <td>1.5</td>\n",
              "      <td>0.3</td>\n",
              "    </tr>\n",
              "  </tbody>\n",
              "</table>\n",
              "</div>"
            ],
            "text/plain": [
              "    Sepal Length  Sepal Width  Petal Length  Petal Width\n",
              "0            5.1          3.5           1.4          0.2\n",
              "1            4.9          3.0           1.4          0.2\n",
              "2            4.7          3.2           1.3          0.2\n",
              "3            4.6          3.1           1.5          0.2\n",
              "4            5.0          3.6           1.4          0.2\n",
              "5            5.4          3.9           1.7          0.4\n",
              "6            4.6          3.4           1.4          0.3\n",
              "7            5.0          3.4           1.5          0.2\n",
              "8            4.4          2.9           1.4          0.2\n",
              "9            4.9          3.1           1.5          0.1\n",
              "10           5.4          3.7           1.5          0.2\n",
              "11           4.8          3.4           1.6          0.2\n",
              "12           4.8          3.0           1.4          0.1\n",
              "13           4.3          3.0           1.1          0.1\n",
              "14           5.8          4.0           1.2          0.2\n",
              "15           5.7          4.4           1.5          0.4\n",
              "16           5.4          3.9           1.3          0.4\n",
              "17           5.1          3.5           1.4          0.3\n",
              "18           5.7          3.8           1.7          0.3\n",
              "19           5.1          3.8           1.5          0.3"
            ]
          },
          "metadata": {
            "tags": []
          },
          "execution_count": 2
        }
      ]
    },
    {
      "metadata": {
        "id": "uKenJTQcgGfH",
        "colab_type": "text"
      },
      "cell_type": "markdown",
      "source": [
        "Lets visualize two if the dimmensions of our data:"
      ]
    },
    {
      "metadata": {
        "id": "2wkZrIdxgAcw",
        "colab_type": "code",
        "colab": {
          "base_uri": "https://localhost:8080/",
          "height": 416
        },
        "outputId": "033d20e0-ac87-4f03-d5ba-97cc2a6f0eeb"
      },
      "cell_type": "code",
      "source": [
        "df.plot.scatter(x=\"Petal Length\", y=\"Petal Width\")"
      ],
      "execution_count": 3,
      "outputs": [
        {
          "output_type": "stream",
          "text": [
            "'c' argument looks like a single numeric RGB or RGBA sequence, which should be avoided as value-mapping will have precedence in case its length matches with 'x' & 'y'.  Please use a 2-D array with a single row if you really want to specify the same RGB or RGBA value for all points.\n"
          ],
          "name": "stderr"
        },
        {
          "output_type": "execute_result",
          "data": {
            "text/plain": [
              "<matplotlib.axes._subplots.AxesSubplot at 0x7f6919b2ae80>"
            ]
          },
          "metadata": {
            "tags": []
          },
          "execution_count": 3
        },
        {
          "output_type": "display_data",
          "data": {
            "image/png": "[encoded data removed]",
            "text/plain": [
              "<Figure size 576x396 with 1 Axes>"
            ]
          },
          "metadata": {
            "tags": []
          }
        }
      ]
    },
    {
      "metadata": {
        "id": "KX1kmucurSTw",
        "colab_type": "text"
      },
      "cell_type": "markdown",
      "source": [
        "Now lets fit a multivariate gaussian. \n",
        "\n",
        "A (multivariate) gaussian has two paramters: it's mean vector  **μ** and its covariance matrix **Σ**.\n",
        "\n",
        "The maximum likelihood estimates of these parameters can be calculated using to following formulae (courtesy PRML section 2.3.4):\n",
        "\n",
        "\\begin{equation}\n",
        "\\mathbf{μ_{ml}} = \\frac{1}{N}\\sum_{n=1}^N\\mathbf{x_n}\n",
        "\\end{equation}\n",
        "\n",
        "\\begin{equation}\n",
        "\\mathbf{Σ_{ml}} = \\frac{1}{N - 1}\\sum_{n=1}^N(\\mathbf{x_n} - \\mathbf{μ_{ml}})(\\mathbf{x_n} - \\mathbf{μ_{ml}})^T\n",
        "\\end{equation}\n",
        "\n",
        "(okay the formula for $\\mathbf{Σ_{ml}}$ should divide by $N$ for MLE but that is a biased estimate so we do $N - 1$ in practice.)\n",
        "\n",
        "So lets implement these:"
      ]
    },
    {
      "metadata": {
        "id": "nmZzmh4Gq7uB",
        "colab_type": "code",
        "outputId": "208abf28-1265-47ae-873c-be55deec35be",
        "colab": {
          "base_uri": "https://localhost:8080/",
          "height": 34
        }
      },
      "cell_type": "code",
      "source": [
        "μ_ml = np.mean(iris,axis=0)\n",
        "μ_ml"
      ],
      "execution_count": 4,
      "outputs": [
        {
          "output_type": "execute_result",
          "data": {
            "text/plain": [
              "array([5.84333333, 3.05733333, 3.758     , 1.19933333])"
            ]
          },
          "metadata": {
            "tags": []
          },
          "execution_count": 4
        }
      ]
    },
    {
      "metadata": {
        "id": "47_OOWaLufm5",
        "colab_type": "code",
        "outputId": "cb1edea4-84d5-4f3d-f4c2-accc85ddef30",
        "colab": {
          "base_uri": "https://localhost:8080/",
          "height": 87
        }
      },
      "cell_type": "code",
      "source": [
        "Σ_ml = np.dot((iris - μ_ml).T, iris - μ_ml)/(iris.shape[0] - 1)\n",
        "Σ_ml"
      ],
      "execution_count": 5,
      "outputs": [
        {
          "output_type": "execute_result",
          "data": {
            "text/plain": [
              "array([[ 0.68569351, -0.042434  ,  1.27431544,  0.51627069],\n",
              "       [-0.042434  ,  0.18997942, -0.32965638, -0.12163937],\n",
              "       [ 1.27431544, -0.32965638,  3.11627785,  1.2956094 ],\n",
              "       [ 0.51627069, -0.12163937,  1.2956094 ,  0.58100626]])"
            ]
          },
          "metadata": {
            "tags": []
          },
          "execution_count": 5
        }
      ]
    },
    {
      "metadata": {
        "id": "1W_HecjKv3Wq",
        "colab_type": "text"
      },
      "cell_type": "markdown",
      "source": [
        "Now that we we have the parameters of our multivariate Gaussian we can ask questions about the probability of seeing various iris flowers and we can even generate new flowers. \n",
        "\n",
        "Lets figure out the probability of seeing a flower with  a sepal length of 7.9, a sepal width of 4.4, a petal length of 6.9, and a petal width of 2.5:"
      ]
    },
    {
      "metadata": {
        "id": "Uopfg1xKukLc",
        "colab_type": "code",
        "colab": {}
      },
      "cell_type": "code",
      "source": [
        "from scipy.stats import multivariate_normal"
      ],
      "execution_count": 0,
      "outputs": []
    },
    {
      "metadata": {
        "id": "co9M0AwkweEQ",
        "colab_type": "code",
        "outputId": "889967ed-b043-4d39-bedc-053ef867f559",
        "colab": {
          "base_uri": "https://localhost:8080/",
          "height": 34
        }
      },
      "cell_type": "code",
      "source": [
        "multivariate_normal.pdf(x=[7.9, 4.4, 6.9, 2.5], mean=μ_ml, cov=Σ_ml)"
      ],
      "execution_count": 7,
      "outputs": [
        {
          "output_type": "execute_result",
          "data": {
            "text/plain": [
              "5.724602136097143e-06"
            ]
          },
          "metadata": {
            "tags": []
          },
          "execution_count": 7
        }
      ]
    },
    {
      "metadata": {
        "id": "iKfZiiIeyPie",
        "colab_type": "text"
      },
      "cell_type": "markdown",
      "source": [
        "That is quite low, but this is because our test point is far from the mean, if we wanted to know the probability of the `mean` flower we get a much higher value:"
      ]
    },
    {
      "metadata": {
        "id": "IzBeSoksyGVB",
        "colab_type": "code",
        "outputId": "640473ff-a390-4324-c0e4-be36b3468671",
        "colab": {
          "base_uri": "https://localhost:8080/",
          "height": 34
        }
      },
      "cell_type": "code",
      "source": [
        "multivariate_normal.pdf(x=μ_ml, mean=μ_ml, cov=Σ_ml)"
      ],
      "execution_count": 8,
      "outputs": [
        {
          "output_type": "execute_result",
          "data": {
            "text/plain": [
              "0.5791798794013171"
            ]
          },
          "metadata": {
            "tags": []
          },
          "execution_count": 8
        }
      ]
    },
    {
      "metadata": {
        "id": "L_d-3OJUydCz",
        "colab_type": "text"
      },
      "cell_type": "markdown",
      "source": [
        "Now lets as a more complicated question: what is the probability distribution of flowers with a sepal length of 6.3, a sepal width of 4.8, and a petal length of 6.0?\n",
        "\n",
        "For this we can use the following formula (courtesy PRML section 2.3.2):\n",
        "\n",
        "\\begin{equation}\n",
        "p(\\mathbf{x_a}|\\mathbf{x_b}) = \\mathcal{N}(\\mathbf{x}|\\mathbf{μ_{a|b}},\\mathbf{A}^{-1}_{aa})\n",
        "\\end{equation}\n",
        "\n",
        "where $\\mathbf{Λ} =\\begin{bmatrix} \\mathbf{Λ_{aa}} & \\mathbf{Λ_{ab}} \\\\ \\mathbf{Λ_{ba}} & \\mathbf{Λ_{bb}} \\end{bmatrix} = \\mathbf{Σ}^{-1}$ is the precision matrix, $\\mathbf{μ_{a|b}} = \\mathbf{μ_{a}} - \\mathbf{Λ_{aa}}^{-1}\\mathbf{Λ_{ab}}(\\mathbf{x_b} - \\mathbf{μ_b})$, and $\\mathbf{μ} = [\\mathbf{μ_a}~ \\mathbf{μ_b}]$.\n",
        "\n"
      ]
    },
    {
      "metadata": {
        "id": "G4ZRpvAbyN2P",
        "colab_type": "code",
        "outputId": "e81dfd6e-3b68-4d0d-8933-de5141b17ca5",
        "colab": {
          "base_uri": "https://localhost:8080/",
          "height": 87
        }
      },
      "cell_type": "code",
      "source": [
        "Λ = np.linalg.inv(Σ_ml)\n",
        "Λ"
      ],
      "execution_count": 9,
      "outputs": [
        {
          "output_type": "execute_result",
          "data": {
            "text/plain": [
              "array([[ 10.31469875,  -6.71318923,  -7.31448253,   5.739951  ],\n",
              "       [ -6.71318923,  11.05841725,   6.48058913,  -6.17093237],\n",
              "       [ -7.31448253,   6.48058913,  10.03167858, -14.5137665 ],\n",
              "       [  5.739951  ,  -6.17093237, -14.5137665 ,  27.69363502]])"
            ]
          },
          "metadata": {
            "tags": []
          },
          "execution_count": 9
        }
      ]
    },
    {
      "metadata": {
        "id": "9fcDpFGe2kwA",
        "colab_type": "code",
        "outputId": "0c71136a-59f7-48a2-bfb2-9a2bfc739021",
        "colab": {
          "base_uri": "https://localhost:8080/",
          "height": 34
        }
      },
      "cell_type": "code",
      "source": [
        "μ_ab = μ_ml[3] - Λ[3,3]**(-1)*np.dot(Λ[0:3,3],(np.array([6.3, 4.8, 6.0]) - μ_ml[0:3]))\n",
        "μ_ab"
      ],
      "execution_count": 10,
      "outputs": [
        {
          "output_type": "execute_result",
          "data": {
            "text/plain": [
              "2.6679920454189805"
            ]
          },
          "metadata": {
            "tags": []
          },
          "execution_count": 10
        }
      ]
    },
    {
      "metadata": {
        "id": "5vz_ivBe4Wqo",
        "colab_type": "text"
      },
      "cell_type": "markdown",
      "source": [
        "Now that we have $μ_{ab}$ and can easily calculate $A^{−1}_{aa}$ lets visualize our conditional distribution:\n"
      ]
    },
    {
      "metadata": {
        "id": "w5jiNrcg3-vp",
        "colab_type": "code",
        "outputId": "74caf3c5-9b65-41f7-a6f9-7a90f9a81db3",
        "colab": {
          "base_uri": "https://localhost:8080/",
          "height": 347
        }
      },
      "cell_type": "code",
      "source": [
        "xvals = np.arange(0,5,0.01)\n",
        "yvals = multivariate_normal.pdf(x=xvals, mean=μ_ab, cov=Λ[3,3]**(-1))\n",
        "plt.plot(xvals, yvals)\n",
        "plt.show()"
      ],
      "execution_count": 11,
      "outputs": [
        {
          "output_type": "display_data",
          "data": {
            "image/png": "[encoded data removed]",
            "text/plain": [
              "<Figure size 576x396 with 1 Axes>"
            ]
          },
          "metadata": {
            "tags": []
          }
        }
      ]
    },
    {
      "metadata": {
        "id": "Ugy_Pu315_xd",
        "colab_type": "text"
      },
      "cell_type": "markdown",
      "source": [
        "Now lets use our model to generate some new data! Lets generate 20 iris flowers:"
      ]
    },
    {
      "metadata": {
        "id": "t8M_RhfB5NMC",
        "colab_type": "code",
        "outputId": "0fdc3ad2-9c63-4e83-84f0-e9c19085cacb",
        "colab": {
          "base_uri": "https://localhost:8080/",
          "height": 669
        }
      },
      "cell_type": "code",
      "source": [
        "df = pd.DataFrame(multivariate_normal.rvs(mean=μ_ml, cov=Σ_ml, size=100))\n",
        "df.columns = ['Sepal Length', 'Sepal Width', 'Petal Length', 'Petal Width']\n",
        "df[0:20]"
      ],
      "execution_count": 12,
      "outputs": [
        {
          "output_type": "execute_result",
          "data": {
            "text/html": [
              "<div>\n",
              "<style scoped>\n",
              "    .dataframe tbody tr th:only-of-type {\n",
              "        vertical-align: middle;\n",
              "    }\n",
              "\n",
              "    .dataframe tbody tr th {\n",
              "        vertical-align: top;\n",
              "    }\n",
              "\n",
              "    .dataframe thead th {\n",
              "        text-align: right;\n",
              "    }\n",
              "</style>\n",
              "<table border=\"1\" class=\"dataframe\">\n",
              "  <thead>\n",
              "    <tr style=\"text-align: right;\">\n",
              "      <th></th>\n",
              "      <th>Sepal Length</th>\n",
              "      <th>Sepal Width</th>\n",
              "      <th>Petal Length</th>\n",
              "      <th>Petal Width</th>\n",
              "    </tr>\n",
              "  </thead>\n",
              "  <tbody>\n",
              "    <tr>\n",
              "      <th>0</th>\n",
              "      <td>6.118625</td>\n",
              "      <td>2.570857</td>\n",
              "      <td>4.184754</td>\n",
              "      <td>1.287985</td>\n",
              "    </tr>\n",
              "    <tr>\n",
              "      <th>1</th>\n",
              "      <td>5.497098</td>\n",
              "      <td>2.785615</td>\n",
              "      <td>1.434449</td>\n",
              "      <td>-0.155940</td>\n",
              "    </tr>\n",
              "    <tr>\n",
              "      <th>2</th>\n",
              "      <td>7.037165</td>\n",
              "      <td>3.229700</td>\n",
              "      <td>4.998909</td>\n",
              "      <td>1.617966</td>\n",
              "    </tr>\n",
              "    <tr>\n",
              "      <th>3</th>\n",
              "      <td>6.502299</td>\n",
              "      <td>3.344393</td>\n",
              "      <td>5.077397</td>\n",
              "      <td>1.545345</td>\n",
              "    </tr>\n",
              "    <tr>\n",
              "      <th>4</th>\n",
              "      <td>7.980463</td>\n",
              "      <td>3.054256</td>\n",
              "      <td>7.832054</td>\n",
              "      <td>2.845207</td>\n",
              "    </tr>\n",
              "    <tr>\n",
              "      <th>5</th>\n",
              "      <td>5.856393</td>\n",
              "      <td>2.603786</td>\n",
              "      <td>4.534879</td>\n",
              "      <td>1.568071</td>\n",
              "    </tr>\n",
              "    <tr>\n",
              "      <th>6</th>\n",
              "      <td>6.006947</td>\n",
              "      <td>2.433683</td>\n",
              "      <td>5.153938</td>\n",
              "      <td>1.514918</td>\n",
              "    </tr>\n",
              "    <tr>\n",
              "      <th>7</th>\n",
              "      <td>6.187213</td>\n",
              "      <td>3.172275</td>\n",
              "      <td>4.260303</td>\n",
              "      <td>1.603662</td>\n",
              "    </tr>\n",
              "    <tr>\n",
              "      <th>8</th>\n",
              "      <td>5.387855</td>\n",
              "      <td>3.543518</td>\n",
              "      <td>2.674963</td>\n",
              "      <td>0.928532</td>\n",
              "    </tr>\n",
              "    <tr>\n",
              "      <th>9</th>\n",
              "      <td>6.153542</td>\n",
              "      <td>4.217961</td>\n",
              "      <td>2.269350</td>\n",
              "      <td>0.533885</td>\n",
              "    </tr>\n",
              "    <tr>\n",
              "      <th>10</th>\n",
              "      <td>5.034771</td>\n",
              "      <td>3.096966</td>\n",
              "      <td>3.005739</td>\n",
              "      <td>0.748003</td>\n",
              "    </tr>\n",
              "    <tr>\n",
              "      <th>11</th>\n",
              "      <td>3.988931</td>\n",
              "      <td>3.779420</td>\n",
              "      <td>-0.133917</td>\n",
              "      <td>-0.443509</td>\n",
              "    </tr>\n",
              "    <tr>\n",
              "      <th>12</th>\n",
              "      <td>5.899180</td>\n",
              "      <td>2.604802</td>\n",
              "      <td>5.849028</td>\n",
              "      <td>2.101908</td>\n",
              "    </tr>\n",
              "    <tr>\n",
              "      <th>13</th>\n",
              "      <td>5.861708</td>\n",
              "      <td>3.089448</td>\n",
              "      <td>3.107194</td>\n",
              "      <td>0.904905</td>\n",
              "    </tr>\n",
              "    <tr>\n",
              "      <th>14</th>\n",
              "      <td>6.480685</td>\n",
              "      <td>2.903760</td>\n",
              "      <td>6.117656</td>\n",
              "      <td>2.052999</td>\n",
              "    </tr>\n",
              "    <tr>\n",
              "      <th>15</th>\n",
              "      <td>6.130398</td>\n",
              "      <td>2.605645</td>\n",
              "      <td>5.483426</td>\n",
              "      <td>2.083216</td>\n",
              "    </tr>\n",
              "    <tr>\n",
              "      <th>16</th>\n",
              "      <td>5.667142</td>\n",
              "      <td>2.507733</td>\n",
              "      <td>5.075160</td>\n",
              "      <td>1.988608</td>\n",
              "    </tr>\n",
              "    <tr>\n",
              "      <th>17</th>\n",
              "      <td>4.773748</td>\n",
              "      <td>3.711863</td>\n",
              "      <td>1.522971</td>\n",
              "      <td>0.586913</td>\n",
              "    </tr>\n",
              "    <tr>\n",
              "      <th>18</th>\n",
              "      <td>5.964232</td>\n",
              "      <td>2.960938</td>\n",
              "      <td>3.994394</td>\n",
              "      <td>1.321572</td>\n",
              "    </tr>\n",
              "    <tr>\n",
              "      <th>19</th>\n",
              "      <td>5.951743</td>\n",
              "      <td>3.519826</td>\n",
              "      <td>3.054815</td>\n",
              "      <td>1.151259</td>\n",
              "    </tr>\n",
              "  </tbody>\n",
              "</table>\n",
              "</div>"
            ],
            "text/plain": [
              "    Sepal Length  Sepal Width  Petal Length  Petal Width\n",
              "0       6.118625     2.570857      4.184754     1.287985\n",
              "1       5.497098     2.785615      1.434449    -0.155940\n",
              "2       7.037165     3.229700      4.998909     1.617966\n",
              "3       6.502299     3.344393      5.077397     1.545345\n",
              "4       7.980463     3.054256      7.832054     2.845207\n",
              "5       5.856393     2.603786      4.534879     1.568071\n",
              "6       6.006947     2.433683      5.153938     1.514918\n",
              "7       6.187213     3.172275      4.260303     1.603662\n",
              "8       5.387855     3.543518      2.674963     0.928532\n",
              "9       6.153542     4.217961      2.269350     0.533885\n",
              "10      5.034771     3.096966      3.005739     0.748003\n",
              "11      3.988931     3.779420     -0.133917    -0.443509\n",
              "12      5.899180     2.604802      5.849028     2.101908\n",
              "13      5.861708     3.089448      3.107194     0.904905\n",
              "14      6.480685     2.903760      6.117656     2.052999\n",
              "15      6.130398     2.605645      5.483426     2.083216\n",
              "16      5.667142     2.507733      5.075160     1.988608\n",
              "17      4.773748     3.711863      1.522971     0.586913\n",
              "18      5.964232     2.960938      3.994394     1.321572\n",
              "19      5.951743     3.519826      3.054815     1.151259"
            ]
          },
          "metadata": {
            "tags": []
          },
          "execution_count": 12
        }
      ]
    },
    {
      "metadata": {
        "id": "WgBStCz_-172",
        "colab_type": "code",
        "outputId": "189dd049-6914-4777-e713-86388a89e111",
        "colab": {
          "base_uri": "https://localhost:8080/",
          "height": 418
        }
      },
      "cell_type": "code",
      "source": [
        "df.plot.scatter(x=\"Petal Length\", y=\"Petal Width\")"
      ],
      "execution_count": 13,
      "outputs": [
        {
          "output_type": "stream",
          "text": [
            "'c' argument looks like a single numeric RGB or RGBA sequence, which should be avoided as value-mapping will have precedence in case its length matches with 'x' & 'y'.  Please use a 2-D array with a single row if you really want to specify the same RGB or RGBA value for all points.\n"
          ],
          "name": "stderr"
        },
        {
          "output_type": "execute_result",
          "data": {
            "text/plain": [
              "<matplotlib.axes._subplots.AxesSubplot at 0x7f6917a42e48>"
            ]
          },
          "metadata": {
            "tags": []
          },
          "execution_count": 13
        },
        {
          "output_type": "display_data",
          "data": {
            "image/png": "[encoded data removed]",
            "text/plain": [
              "<Figure size 576x396 with 1 Axes>"
            ]
          },
          "metadata": {
            "tags": []
          }
        }
      ]
    },
    {
      "metadata": {
        "id": "91gwXfuX6cqN",
        "colab_type": "text"
      },
      "cell_type": "markdown",
      "source": [
        "And finaly, lets get a little more fancy and generate flowers with sepal lengths of 6.3 cm. We'll use the same formulae for conditional Gaussians as before:"
      ]
    },
    {
      "metadata": {
        "id": "sT5BMNHc6URb",
        "colab_type": "code",
        "outputId": "a04a22b5-dc9c-4d14-85cc-a165d0c96af3",
        "colab": {
          "base_uri": "https://localhost:8080/",
          "height": 34
        }
      },
      "cell_type": "code",
      "source": [
        "μ_ab = μ_ml[1:4] - np.dot(np.linalg.inv(Λ[1:4,1:4]),Λ[1:4,0]*(np.array([6.3]) - μ_ml[0]))\n",
        "μ_ab"
      ],
      "execution_count": 14,
      "outputs": [
        {
          "output_type": "execute_result",
          "data": {
            "text/plain": [
              "array([3.02907261, 4.60668439, 1.54316569])"
            ]
          },
          "metadata": {
            "tags": []
          },
          "execution_count": 14
        }
      ]
    },
    {
      "metadata": {
        "id": "W7oD1yMh8Alz",
        "colab_type": "code",
        "outputId": "48187756-a083-46a9-8e98-eec335542e50",
        "colab": {
          "base_uri": "https://localhost:8080/",
          "height": 669
        }
      },
      "cell_type": "code",
      "source": [
        "df = pd.DataFrame(multivariate_normal.rvs(mean=μ_ab, cov=np.linalg.inv(Λ[1:4,1:4]), size=100))\n",
        "df.columns = ['Sepal Width', 'Petal Length', 'Petal Width']\n",
        "df[0:20]"
      ],
      "execution_count": 15,
      "outputs": [
        {
          "output_type": "execute_result",
          "data": {
            "text/html": [
              "<div>\n",
              "<style scoped>\n",
              "    .dataframe tbody tr th:only-of-type {\n",
              "        vertical-align: middle;\n",
              "    }\n",
              "\n",
              "    .dataframe tbody tr th {\n",
              "        vertical-align: top;\n",
              "    }\n",
              "\n",
              "    .dataframe thead th {\n",
              "        text-align: right;\n",
              "    }\n",
              "</style>\n",
              "<table border=\"1\" class=\"dataframe\">\n",
              "  <thead>\n",
              "    <tr style=\"text-align: right;\">\n",
              "      <th></th>\n",
              "      <th>Sepal Width</th>\n",
              "      <th>Petal Length</th>\n",
              "      <th>Petal Width</th>\n",
              "    </tr>\n",
              "  </thead>\n",
              "  <tbody>\n",
              "    <tr>\n",
              "      <th>0</th>\n",
              "      <td>2.711183</td>\n",
              "      <td>5.972142</td>\n",
              "      <td>2.264218</td>\n",
              "    </tr>\n",
              "    <tr>\n",
              "      <th>1</th>\n",
              "      <td>2.359277</td>\n",
              "      <td>4.991391</td>\n",
              "      <td>1.853236</td>\n",
              "    </tr>\n",
              "    <tr>\n",
              "      <th>2</th>\n",
              "      <td>3.176533</td>\n",
              "      <td>4.893818</td>\n",
              "      <td>1.616926</td>\n",
              "    </tr>\n",
              "    <tr>\n",
              "      <th>3</th>\n",
              "      <td>3.043512</td>\n",
              "      <td>4.743595</td>\n",
              "      <td>1.511776</td>\n",
              "    </tr>\n",
              "    <tr>\n",
              "      <th>4</th>\n",
              "      <td>2.547686</td>\n",
              "      <td>4.606161</td>\n",
              "      <td>1.091952</td>\n",
              "    </tr>\n",
              "    <tr>\n",
              "      <th>5</th>\n",
              "      <td>2.488950</td>\n",
              "      <td>4.824127</td>\n",
              "      <td>1.525447</td>\n",
              "    </tr>\n",
              "    <tr>\n",
              "      <th>6</th>\n",
              "      <td>2.408906</td>\n",
              "      <td>4.744851</td>\n",
              "      <td>1.354360</td>\n",
              "    </tr>\n",
              "    <tr>\n",
              "      <th>7</th>\n",
              "      <td>2.826068</td>\n",
              "      <td>5.616797</td>\n",
              "      <td>1.878519</td>\n",
              "    </tr>\n",
              "    <tr>\n",
              "      <th>8</th>\n",
              "      <td>2.847450</td>\n",
              "      <td>6.052265</td>\n",
              "      <td>1.932640</td>\n",
              "    </tr>\n",
              "    <tr>\n",
              "      <th>9</th>\n",
              "      <td>2.835757</td>\n",
              "      <td>5.864965</td>\n",
              "      <td>2.314502</td>\n",
              "    </tr>\n",
              "    <tr>\n",
              "      <th>10</th>\n",
              "      <td>3.623535</td>\n",
              "      <td>3.236705</td>\n",
              "      <td>1.089303</td>\n",
              "    </tr>\n",
              "    <tr>\n",
              "      <th>11</th>\n",
              "      <td>2.961721</td>\n",
              "      <td>4.880490</td>\n",
              "      <td>1.739322</td>\n",
              "    </tr>\n",
              "    <tr>\n",
              "      <th>12</th>\n",
              "      <td>3.482141</td>\n",
              "      <td>4.277643</td>\n",
              "      <td>1.277781</td>\n",
              "    </tr>\n",
              "    <tr>\n",
              "      <th>13</th>\n",
              "      <td>3.654537</td>\n",
              "      <td>3.068250</td>\n",
              "      <td>0.604809</td>\n",
              "    </tr>\n",
              "    <tr>\n",
              "      <th>14</th>\n",
              "      <td>2.818600</td>\n",
              "      <td>5.091005</td>\n",
              "      <td>1.438768</td>\n",
              "    </tr>\n",
              "    <tr>\n",
              "      <th>15</th>\n",
              "      <td>2.426831</td>\n",
              "      <td>4.867756</td>\n",
              "      <td>1.319008</td>\n",
              "    </tr>\n",
              "    <tr>\n",
              "      <th>16</th>\n",
              "      <td>2.964604</td>\n",
              "      <td>4.474343</td>\n",
              "      <td>1.636976</td>\n",
              "    </tr>\n",
              "    <tr>\n",
              "      <th>17</th>\n",
              "      <td>3.663167</td>\n",
              "      <td>3.444881</td>\n",
              "      <td>1.151947</td>\n",
              "    </tr>\n",
              "    <tr>\n",
              "      <th>18</th>\n",
              "      <td>2.835974</td>\n",
              "      <td>3.862359</td>\n",
              "      <td>1.410573</td>\n",
              "    </tr>\n",
              "    <tr>\n",
              "      <th>19</th>\n",
              "      <td>2.664818</td>\n",
              "      <td>5.539067</td>\n",
              "      <td>1.850814</td>\n",
              "    </tr>\n",
              "  </tbody>\n",
              "</table>\n",
              "</div>"
            ],
            "text/plain": [
              "    Sepal Width  Petal Length  Petal Width\n",
              "0      2.711183      5.972142     2.264218\n",
              "1      2.359277      4.991391     1.853236\n",
              "2      3.176533      4.893818     1.616926\n",
              "3      3.043512      4.743595     1.511776\n",
              "4      2.547686      4.606161     1.091952\n",
              "5      2.488950      4.824127     1.525447\n",
              "6      2.408906      4.744851     1.354360\n",
              "7      2.826068      5.616797     1.878519\n",
              "8      2.847450      6.052265     1.932640\n",
              "9      2.835757      5.864965     2.314502\n",
              "10     3.623535      3.236705     1.089303\n",
              "11     2.961721      4.880490     1.739322\n",
              "12     3.482141      4.277643     1.277781\n",
              "13     3.654537      3.068250     0.604809\n",
              "14     2.818600      5.091005     1.438768\n",
              "15     2.426831      4.867756     1.319008\n",
              "16     2.964604      4.474343     1.636976\n",
              "17     3.663167      3.444881     1.151947\n",
              "18     2.835974      3.862359     1.410573\n",
              "19     2.664818      5.539067     1.850814"
            ]
          },
          "metadata": {
            "tags": []
          },
          "execution_count": 15
        }
      ]
    },
    {
      "metadata": {
        "id": "_wYLVoIT9No1",
        "colab_type": "code",
        "outputId": "91fb5ad1-9eff-40c9-bd22-6eda497c0353",
        "colab": {
          "base_uri": "https://localhost:8080/",
          "height": 416
        }
      },
      "cell_type": "code",
      "source": [
        "df.plot.scatter(x=\"Petal Length\", y=\"Petal Width\")"
      ],
      "execution_count": 16,
      "outputs": [
        {
          "output_type": "stream",
          "text": [
            "'c' argument looks like a single numeric RGB or RGBA sequence, which should be avoided as value-mapping will have precedence in case its length matches with 'x' & 'y'.  Please use a 2-D array with a single row if you really want to specify the same RGB or RGBA value for all points.\n"
          ],
          "name": "stderr"
        },
        {
          "output_type": "execute_result",
          "data": {
            "text/plain": [
              "<matplotlib.axes._subplots.AxesSubplot at 0x7f69151db8d0>"
            ]
          },
          "metadata": {
            "tags": []
          },
          "execution_count": 16
        },
        {
          "output_type": "display_data",
          "data": {
            "image/png": "[encoded data removed]",
            "text/plain": [
              "<Figure size 576x396 with 1 Axes>"
            ]
          },
          "metadata": {
            "tags": []
          }
        }
      ]
    },
    {
      "metadata": {
        "id": "m8W5su0G-uKz",
        "colab_type": "code",
        "colab": {}
      },
      "cell_type": "code",
      "source": [
        ""
      ],
      "execution_count": 0,
      "outputs": []
    }
  ]
}